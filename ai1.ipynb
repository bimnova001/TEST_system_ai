{
 "cells": [
  {
   "cell_type": "code",
   "execution_count": 49,
   "id": "0f1cd7ea",
   "metadata": {},
   "outputs": [],
   "source": [
    "import pandas as pd\n",
    "import numpy as np\n",
    "import os\n",
    "# Make numpy values easier to read.\n",
    "np.set_printoptions(precision=3, suppress=True)\n",
    "import keras\n",
    "import tensorflow as tf\n",
    "from tensorflow.keras import layers"
   ]
  },
  {
   "cell_type": "code",
   "execution_count": 50,
   "id": "07633d3e",
   "metadata": {
    "scrolled": true
   },
   "outputs": [
    {
     "data": {
      "text/html": [
       "<div>\n",
       "<style scoped>\n",
       "    .dataframe tbody tr th:only-of-type {\n",
       "        vertical-align: middle;\n",
       "    }\n",
       "\n",
       "    .dataframe tbody tr th {\n",
       "        vertical-align: top;\n",
       "    }\n",
       "\n",
       "    .dataframe thead th {\n",
       "        text-align: right;\n",
       "    }\n",
       "</style>\n",
       "<table border=\"1\" class=\"dataframe\">\n",
       "  <thead>\n",
       "    <tr style=\"text-align: right;\">\n",
       "      <th></th>\n",
       "      <th>day</th>\n",
       "      <th>month</th>\n",
       "      <th>year</th>\n",
       "      <th>first</th>\n",
       "      <th>3digit</th>\n",
       "      <th>last_2digit_top</th>\n",
       "      <th>first_3digit_1</th>\n",
       "      <th>first_3digit_2</th>\n",
       "      <th>last_3digit_1</th>\n",
       "      <th>last_3digit_2</th>\n",
       "      <th>last_2digit_down</th>\n",
       "    </tr>\n",
       "  </thead>\n",
       "  <tbody>\n",
       "    <tr>\n",
       "      <th>0</th>\n",
       "      <td>16</td>\n",
       "      <td>7</td>\n",
       "      <td>2559</td>\n",
       "      <td>449764</td>\n",
       "      <td>764</td>\n",
       "      <td>64</td>\n",
       "      <td>552</td>\n",
       "      <td>734</td>\n",
       "      <td>158</td>\n",
       "      <td>925</td>\n",
       "      <td>55</td>\n",
       "    </tr>\n",
       "    <tr>\n",
       "      <th>1</th>\n",
       "      <td>1</td>\n",
       "      <td>7</td>\n",
       "      <td>2559</td>\n",
       "      <td>82460</td>\n",
       "      <td>460</td>\n",
       "      <td>60</td>\n",
       "      <td>169</td>\n",
       "      <td>609</td>\n",
       "      <td>173</td>\n",
       "      <td>302</td>\n",
       "      <td>53</td>\n",
       "    </tr>\n",
       "    <tr>\n",
       "      <th>2</th>\n",
       "      <td>16</td>\n",
       "      <td>6</td>\n",
       "      <td>2559</td>\n",
       "      <td>73816</td>\n",
       "      <td>816</td>\n",
       "      <td>16</td>\n",
       "      <td>251</td>\n",
       "      <td>804</td>\n",
       "      <td>321</td>\n",
       "      <td>749</td>\n",
       "      <td>79</td>\n",
       "    </tr>\n",
       "    <tr>\n",
       "      <th>3</th>\n",
       "      <td>1</td>\n",
       "      <td>6</td>\n",
       "      <td>2559</td>\n",
       "      <td>511825</td>\n",
       "      <td>825</td>\n",
       "      <td>25</td>\n",
       "      <td>111</td>\n",
       "      <td>775</td>\n",
       "      <td>880</td>\n",
       "      <td>937</td>\n",
       "      <td>14</td>\n",
       "    </tr>\n",
       "    <tr>\n",
       "      <th>4</th>\n",
       "      <td>16</td>\n",
       "      <td>5</td>\n",
       "      <td>2559</td>\n",
       "      <td>141737</td>\n",
       "      <td>737</td>\n",
       "      <td>37</td>\n",
       "      <td>382</td>\n",
       "      <td>975</td>\n",
       "      <td>87</td>\n",
       "      <td>268</td>\n",
       "      <td>98</td>\n",
       "    </tr>\n",
       "  </tbody>\n",
       "</table>\n",
       "</div>"
      ],
      "text/plain": [
       "   day  month  year   first  3digit  last_2digit_top  first_3digit_1  \\\n",
       "0   16      7  2559  449764     764               64             552   \n",
       "1    1      7  2559   82460     460               60             169   \n",
       "2   16      6  2559   73816     816               16             251   \n",
       "3    1      6  2559  511825     825               25             111   \n",
       "4   16      5  2559  141737     737               37             382   \n",
       "\n",
       "   first_3digit_2  last_3digit_1  last_3digit_2  last_2digit_down  \n",
       "0             734            158            925                55  \n",
       "1             609            173            302                53  \n",
       "2             804            321            749                79  \n",
       "3             775            880            937                14  \n",
       "4             975             87            268                98  "
      ]
     },
     "execution_count": 50,
     "metadata": {},
     "output_type": "execute_result"
    }
   ],
   "source": [
    "data_train = pd.read_csv(\"data.csv\")\n",
    "data_train.head()"
   ]
  },
  {
   "cell_type": "code",
   "execution_count": 51,
   "id": "26c2eb83",
   "metadata": {},
   "outputs": [],
   "source": [
    "cslo = data_train.copy()\n",
    "cslo_labels = cslo.pop(\"first\")"
   ]
  },
  {
   "cell_type": "code",
   "execution_count": 52,
   "id": "280ca7a5",
   "metadata": {
    "scrolled": true
   },
   "outputs": [
    {
     "data": {
      "text/plain": [
       "array([[  16,    7, 2559, ...,  158,  925,   55],\n",
       "       [   1,    7, 2559, ...,  173,  302,   53],\n",
       "       [  16,    6, 2559, ...,  321,  749,   79],\n",
       "       ...,\n",
       "       [  16,    2, 2549, ...,  135,  280,   66],\n",
       "       [   1,    2, 2549, ...,  149,  384,   87],\n",
       "       [  16,    1, 2549, ...,  789,  965,   79]], dtype=int64)"
      ]
     },
     "execution_count": 52,
     "metadata": {},
     "output_type": "execute_result"
    }
   ],
   "source": [
    "cslo = np.array(cslo)\n",
    "cslo"
   ]
  },
  {
   "cell_type": "code",
   "execution_count": 53,
   "id": "29b3ba88",
   "metadata": {},
   "outputs": [],
   "source": [
    "cslo_model = tf.keras.Sequential([\n",
    "  layers.Dense(64),\n",
    "  layers.Dense(1)\n",
    "])\n",
    "normalize = layers.Normalization()\n",
    "normalize.adapt(cslo)\n",
    "cslo_model.compile(loss = tf.losses.MeanSquaredError(),\n",
    "                      optimizer = tf.optimizers.Adam())"
   ]
  },
  {
   "cell_type": "code",
   "execution_count": 54,
   "id": "344ecf5a",
   "metadata": {},
   "outputs": [
    {
     "name": "stdout",
     "output_type": "stream",
     "text": [
      "Epoch 1/30\n",
      "8/8 [==============================] - 0s 1ms/step - loss: 310013460480.0000\n",
      "Epoch 2/30\n",
      "8/8 [==============================] - 0s 1ms/step - loss: 309398470656.0000\n",
      "Epoch 3/30\n",
      "8/8 [==============================] - 0s 1ms/step - loss: 308784529408.0000\n",
      "Epoch 4/30\n",
      "8/8 [==============================] - 0s 1ms/step - loss: 308153352192.0000\n",
      "Epoch 5/30\n",
      "8/8 [==============================] - 0s 1ms/step - loss: 307485310976.0000\n",
      "Epoch 6/30\n",
      "8/8 [==============================] - 0s 1ms/step - loss: 306800492544.0000\n",
      "Epoch 7/30\n",
      "8/8 [==============================] - 0s 1ms/step - loss: 306062458880.0000\n",
      "Epoch 8/30\n",
      "8/8 [==============================] - 0s 1ms/step - loss: 305276944384.0000\n",
      "Epoch 9/30\n",
      "8/8 [==============================] - 0s 1ms/step - loss: 304462987264.0000\n",
      "Epoch 10/30\n",
      "8/8 [==============================] - 0s 1ms/step - loss: 303577137152.0000\n",
      "Epoch 11/30\n",
      "8/8 [==============================] - 0s 1ms/step - loss: 302639841280.0000\n",
      "Epoch 12/30\n",
      "8/8 [==============================] - 0s 1ms/step - loss: 301628293120.0000\n",
      "Epoch 13/30\n",
      "8/8 [==============================] - 0s 1ms/step - loss: 300544327680.0000\n",
      "Epoch 14/30\n",
      "8/8 [==============================] - 0s 1ms/step - loss: 299416977408.0000\n",
      "Epoch 15/30\n",
      "8/8 [==============================] - 0s 1ms/step - loss: 298219307008.0000\n",
      "Epoch 16/30\n",
      "8/8 [==============================] - 0s 1ms/step - loss: 296942108672.0000\n",
      "Epoch 17/30\n",
      "8/8 [==============================] - 0s 1ms/step - loss: 295587807232.0000\n",
      "Epoch 18/30\n",
      "8/8 [==============================] - 0s 1ms/step - loss: 294154010624.0000\n",
      "Epoch 19/30\n",
      "8/8 [==============================] - 0s 1ms/step - loss: 292674863104.0000\n",
      "Epoch 20/30\n",
      "8/8 [==============================] - 0s 1ms/step - loss: 291098492928.0000\n",
      "Epoch 21/30\n",
      "8/8 [==============================] - 0s 2ms/step - loss: 289443610624.0000\n",
      "Epoch 22/30\n",
      "8/8 [==============================] - 0s 1ms/step - loss: 287703760896.0000\n",
      "Epoch 23/30\n",
      "8/8 [==============================] - 0s 1ms/step - loss: 285903224832.0000\n",
      "Epoch 24/30\n",
      "8/8 [==============================] - 0s 1ms/step - loss: 284008448000.0000\n",
      "Epoch 25/30\n",
      "8/8 [==============================] - 0s 1ms/step - loss: 282051510272.0000\n",
      "Epoch 26/30\n",
      "8/8 [==============================] - 0s 1ms/step - loss: 280044273664.0000\n",
      "Epoch 27/30\n",
      "8/8 [==============================] - 0s 1ms/step - loss: 277869166592.0000\n",
      "Epoch 28/30\n",
      "8/8 [==============================] - 0s 1ms/step - loss: 275720798208.0000\n",
      "Epoch 29/30\n",
      "8/8 [==============================] - 0s 1ms/step - loss: 273438408704.0000\n",
      "Epoch 30/30\n",
      "8/8 [==============================] - 0s 1ms/step - loss: 271084748800.0000\n"
     ]
    },
    {
     "data": {
      "text/plain": [
       "<keras.callbacks.History at 0x258cbe1e110>"
      ]
     },
     "execution_count": 54,
     "metadata": {},
     "output_type": "execute_result"
    }
   ],
   "source": [
    "cslo_model.fit(cslo, cslo_labels, epochs=30)\n"
   ]
  },
  {
   "cell_type": "code",
   "execution_count": 55,
   "id": "60deb8c9",
   "metadata": {},
   "outputs": [
    {
     "name": "stdout",
     "output_type": "stream",
     "text": [
      "The model cslo_model.h5 has been saved successfully.\n"
     ]
    }
   ],
   "source": [
    "# Save the trained model\n",
    "cslo_model.save(\"cslo_model.h5\")\n",
    "model_file = \"cslo_model.h5\"\n",
    "if os.path.exists(model_file):\n",
    "    print(f\"The model {model_file} has been saved successfully.\")\n",
    "else:\n",
    "    print(f\"Failed to save the model.\")"
   ]
  }
 ],
 "metadata": {
  "kernelspec": {
   "display_name": "Python 3 (ipykernel)",
   "language": "python",
   "name": "python3"
  },
  "language_info": {
   "codemirror_mode": {
    "name": "ipython",
    "version": 3
   },
   "file_extension": ".py",
   "mimetype": "text/x-python",
   "name": "python",
   "nbconvert_exporter": "python",
   "pygments_lexer": "ipython3",
   "version": "3.10.10"
  }
 },
 "nbformat": 4,
 "nbformat_minor": 5
}
