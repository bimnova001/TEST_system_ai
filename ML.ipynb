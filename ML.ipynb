{
 "cells": [
  {
   "cell_type": "code",
   "execution_count": 2,
   "id": "0e715f62",
   "metadata": {},
   "outputs": [],
   "source": [
    "import pandas as pd\n",
    "import sklearn\n",
    "from sklearn.model_selection import train_test_split\n",
    "from sklearn.linear_model import LinearRegression\n",
    "\n"
   ]
  },
  {
   "cell_type": "code",
   "execution_count": 3,
   "id": "d7ec96fa",
   "metadata": {},
   "outputs": [
    {
     "data": {
      "text/html": [
       "<div>\n",
       "<style scoped>\n",
       "    .dataframe tbody tr th:only-of-type {\n",
       "        vertical-align: middle;\n",
       "    }\n",
       "\n",
       "    .dataframe tbody tr th {\n",
       "        vertical-align: top;\n",
       "    }\n",
       "\n",
       "    .dataframe thead th {\n",
       "        text-align: right;\n",
       "    }\n",
       "</style>\n",
       "<table border=\"1\" class=\"dataframe\">\n",
       "  <thead>\n",
       "    <tr style=\"text-align: right;\">\n",
       "      <th></th>\n",
       "      <th>day</th>\n",
       "      <th>month</th>\n",
       "      <th>year</th>\n",
       "      <th>first</th>\n",
       "      <th>3digit</th>\n",
       "      <th>last_2digit_top</th>\n",
       "      <th>first_3digit_1</th>\n",
       "      <th>first_3digit_2</th>\n",
       "      <th>last_3digit_1</th>\n",
       "      <th>last_3digit_2</th>\n",
       "      <th>last_2digit_down</th>\n",
       "    </tr>\n",
       "  </thead>\n",
       "  <tbody>\n",
       "    <tr>\n",
       "      <th>0</th>\n",
       "      <td>16</td>\n",
       "      <td>7</td>\n",
       "      <td>2559</td>\n",
       "      <td>449764</td>\n",
       "      <td>764</td>\n",
       "      <td>64</td>\n",
       "      <td>552</td>\n",
       "      <td>734</td>\n",
       "      <td>158</td>\n",
       "      <td>925</td>\n",
       "      <td>55</td>\n",
       "    </tr>\n",
       "    <tr>\n",
       "      <th>1</th>\n",
       "      <td>1</td>\n",
       "      <td>7</td>\n",
       "      <td>2559</td>\n",
       "      <td>82460</td>\n",
       "      <td>460</td>\n",
       "      <td>60</td>\n",
       "      <td>169</td>\n",
       "      <td>609</td>\n",
       "      <td>173</td>\n",
       "      <td>302</td>\n",
       "      <td>53</td>\n",
       "    </tr>\n",
       "    <tr>\n",
       "      <th>2</th>\n",
       "      <td>16</td>\n",
       "      <td>6</td>\n",
       "      <td>2559</td>\n",
       "      <td>73816</td>\n",
       "      <td>816</td>\n",
       "      <td>16</td>\n",
       "      <td>251</td>\n",
       "      <td>804</td>\n",
       "      <td>321</td>\n",
       "      <td>749</td>\n",
       "      <td>79</td>\n",
       "    </tr>\n",
       "    <tr>\n",
       "      <th>3</th>\n",
       "      <td>1</td>\n",
       "      <td>6</td>\n",
       "      <td>2559</td>\n",
       "      <td>511825</td>\n",
       "      <td>825</td>\n",
       "      <td>25</td>\n",
       "      <td>111</td>\n",
       "      <td>775</td>\n",
       "      <td>880</td>\n",
       "      <td>937</td>\n",
       "      <td>14</td>\n",
       "    </tr>\n",
       "    <tr>\n",
       "      <th>4</th>\n",
       "      <td>16</td>\n",
       "      <td>5</td>\n",
       "      <td>2559</td>\n",
       "      <td>141737</td>\n",
       "      <td>737</td>\n",
       "      <td>37</td>\n",
       "      <td>382</td>\n",
       "      <td>975</td>\n",
       "      <td>87</td>\n",
       "      <td>268</td>\n",
       "      <td>98</td>\n",
       "    </tr>\n",
       "  </tbody>\n",
       "</table>\n",
       "</div>"
      ],
      "text/plain": [
       "   day  month  year   first  3digit  last_2digit_top  first_3digit_1  \\\n",
       "0   16      7  2559  449764     764               64             552   \n",
       "1    1      7  2559   82460     460               60             169   \n",
       "2   16      6  2559   73816     816               16             251   \n",
       "3    1      6  2559  511825     825               25             111   \n",
       "4   16      5  2559  141737     737               37             382   \n",
       "\n",
       "   first_3digit_2  last_3digit_1  last_3digit_2  last_2digit_down  \n",
       "0             734            158            925                55  \n",
       "1             609            173            302                53  \n",
       "2             804            321            749                79  \n",
       "3             775            880            937                14  \n",
       "4             975             87            268                98  "
      ]
     },
     "execution_count": 3,
     "metadata": {},
     "output_type": "execute_result"
    }
   ],
   "source": [
    "# Load your dataset\n",
    "data_train = pd.read_csv(\"data.csv\")\n",
    "data_train.head()\n"
   ]
  },
  {
   "cell_type": "code",
   "execution_count": 4,
   "id": "e27988cd",
   "metadata": {
    "scrolled": true
   },
   "outputs": [],
   "source": [
    "main_train = data_train[\"first\"]\n",
    "day = list(zip(data_train['day'],data_train['month'],data_train['year']))"
   ]
  },
  {
   "cell_type": "code",
   "execution_count": 13,
   "id": "332eb6e2",
   "metadata": {},
   "outputs": [
    {
     "name": "stdout",
     "output_type": "stream",
     "text": [
      "Day: 1\n",
      "Month: 4\n",
      "Year: 2024\n",
      "\n",
      "First: 913426\n",
      "corrent ?\n"
     ]
    }
   ],
   "source": [
    "def perdictLotto(d,m,y,data1,data2):\n",
    "    model = LinearRegression()\n",
    "    model.fit(data1,data2)\n",
    "    predict = model.predict([[d,m,y]])\n",
    "    return predict[0]\n",
    "iD = int(input(\"Day: \"))\n",
    "iM = int(input(\"Month: \"))\n",
    "iY = int(input(\"Year: \"))\n",
    "print(\"\\nFirst: %06d\" % perdictLotto(iD, iM, iY, day,main_train))\n",
    "\n",
    "print(\"corrent ?\")"
   ]
  },
  {
   "cell_type": "code",
   "execution_count": null,
   "id": "50f3a17b",
   "metadata": {},
   "outputs": [],
   "source": []
  },
  {
   "cell_type": "code",
   "execution_count": null,
   "id": "6ee99cf0",
   "metadata": {},
   "outputs": [],
   "source": []
  }
 ],
 "metadata": {
  "kernelspec": {
   "display_name": "Python 3 (ipykernel)",
   "language": "python",
   "name": "python3"
  },
  "language_info": {
   "codemirror_mode": {
    "name": "ipython",
    "version": 3
   },
   "file_extension": ".py",
   "mimetype": "text/x-python",
   "name": "python",
   "nbconvert_exporter": "python",
   "pygments_lexer": "ipython3",
   "version": "3.10.10"
  }
 },
 "nbformat": 4,
 "nbformat_minor": 5
}
